{
 "cells": [
  {
   "cell_type": "code",
   "execution_count": 53,
   "metadata": {},
   "outputs": [],
   "source": [
    "from selenium import webdriver\n",
    "from selenium.webdriver.common.keys import Keys\n",
    "from selenium.webdriver.support.ui import Select\n",
    "from selenium.webdriver.common.by import By\n",
    "import time"
   ]
  },
  {
   "cell_type": "code",
   "execution_count": 54,
   "metadata": {},
   "outputs": [],
   "source": [
    "category_list = ['디지털','내부회계']"
   ]
  },
  {
   "cell_type": "code",
   "execution_count": 55,
   "metadata": {},
   "outputs": [
    {
     "name": "stderr",
     "output_type": "stream",
     "text": [
      "C:\\Users\\josuh\\AppData\\Local\\Temp\\ipykernel_20816\\458087107.py:7: DeprecationWarning: use options instead of chrome_options\n",
      "  driver = webdriver.Chrome('chromedriver',chrome_options=chrome_options)\n"
     ]
    }
   ],
   "source": [
    "from time import sleep\n",
    "options = webdriver.ChromeOptions()\n",
    "chrome_options = webdriver.ChromeOptions()\n",
    "chrome_options.add_argument('--headless') #내부 창을 띄울 수 없으므로 설정\n",
    "chrome_options.add_argument('--no-sandbox')\n",
    "chrome_options.add_argument('--disable-dev-shm-usage')\n",
    "driver = webdriver.Chrome('chromedriver',chrome_options=chrome_options)\n",
    "# 브라우저 윈도우 사이즈\n",
    "options.add_argument('window-size=1920x1080')\n",
    "# 사람처럼 보이게 하는 옵션들\n",
    "options.add_argument(\"disable-gpu\")   # 가속 사용 x\n",
    "options.add_argument(\"lang=ko_KR\")    # 가짜 플러그인 탑재\n",
    "options.add_argument('user-agent=Mozilla/5.0 (Windows NT 10.0; WOW64) AppleWebKit/537.36 (KHTML, like Gecko) Chrome/109.0.0.0 Safari/537.36')  # user-agent 이름 설정|\n",
    "# selenium에서 사용할 웹 드라이버 절대 경로 정보\n",
    "# selenum의 webdriver에 앞서 설치한 chromedirver를 연동한다.\n",
    "driver.implicitly_wait(2)"
   ]
  },
  {
   "cell_type": "code",
   "execution_count": 56,
   "metadata": {},
   "outputs": [
    {
     "name": "stdout",
     "output_type": "stream",
     "text": [
      "Message: no such window: target window already closed\n",
      "from unknown error: web view not found\n",
      "  (Session info: chrome=110.0.5481.77)\n",
      "Stacktrace:\n",
      "Backtrace:\n",
      "\t(No symbol) [0x009B6643]\n",
      "\t(No symbol) [0x0094BE21]\n",
      "\t(No symbol) [0x0084DA9D]\n",
      "\t(No symbol) [0x0082EF6A]\n",
      "\t(No symbol) [0x008A3AAB]\n",
      "\t(No symbol) [0x008B61B6]\n",
      "\t(No symbol) [0x0089FB76]\n",
      "\t(No symbol) [0x008749C1]\n",
      "\t(No symbol) [0x00875E5D]\n",
      "\tGetHandleVerifier [0x00C2A142+2497106]\n",
      "\tGetHandleVerifier [0x00C585D3+2686691]\n",
      "\tGetHandleVerifier [0x00C5BB9C+2700460]\n",
      "\tGetHandleVerifier [0x00A63B10+635936]\n",
      "\t(No symbol) [0x00954A1F]\n",
      "\t(No symbol) [0x0095A418]\n",
      "\t(No symbol) [0x0095A505]\n",
      "\t(No symbol) [0x0096508B]\n",
      "\tBaseThreadInitThunk [0x773900F9+25]\n",
      "\tRtlGetAppContainerNamedObjectPath [0x774D7BBE+286]\n",
      "\tRtlGetAppContainerNamedObjectPath [0x774D7B8E+238]\n",
      "\n"
     ]
    }
   ],
   "source": [
    "\n",
    "try:\n",
    "    driver = webdriver.Chrome()\n",
    "    driver.implicitly_wait(10)\n",
    "\n",
    "    for query in category_list:\n",
    "        driver.get('https://www.g2b.go.kr:8101/ep/tbid/tbidFwd.do')\n",
    "        task_dict = {'용역': 'taskClCds5'}\n",
    "        for task in task_dict.values():\n",
    "            checkbox = driver.find_element(By.ID, task)\n",
    "            checkbox.click()\n",
    "        # ID값이 bidNm인 태그 가져오기\n",
    "        bidNm = driver.find_element(By.ID, 'bidNm')\n",
    "        # 내용을 삭제\n",
    "        bidNm.clear()\n",
    "        # 검색어에 문자열 전달\n",
    "        bidNm.send_keys(query)\n",
    "        bidNm.send_keys(Keys.RETURN)\n",
    "\n",
    "        option_dict = {'검색기간 1달': 'setMonth1_1', '입찰마감건 제외': 'exceptEnd', '검색건수 표시': 'useTotalCount'}\n",
    "        for option in option_dict.values():\n",
    "            checkbox = driver.find_element(By.ID, option)\n",
    "            checkbox.click()\n",
    "\n",
    "        # 목록수 100건 선택 (드롭다운)\n",
    "        recordcountperpage = driver.find_element(By.NAME,'recordCountPerPage')\n",
    "        selector = Select(recordcountperpage)\n",
    "        selector.select_by_value('100')\n",
    "\n",
    "        search_button = driver.find_element(By.CLASS_NAME, 'btn_mdl')\n",
    "        search_button.click()\n",
    "\n",
    "        # 검색 결과 확인\n",
    "        elem = driver.find_element(By.CLASS_NAME,'results')\n",
    "        div_list = elem.find_elements(By.TAG_NAME, 'div')\n",
    "\n",
    "        # 리스트 형태로 검색결과 저장\n",
    "        results = []\n",
    "        for div in div_list:\n",
    "            results.append(div.text)\n",
    "            a_tags = div.find_elements(By.TAG_NAME,'a')\n",
    "            if a_tags:\n",
    "                for a_tag in a_tags:\n",
    "                    link = a\n",
    "except Exception as e:\n",
    "    print(e)\n",
    "finally:  \n",
    "    driver.quit()\n"
   ]
  },
  {
   "cell_type": "code",
   "execution_count": null,
   "metadata": {},
   "outputs": [],
   "source": []
  },
  {
   "cell_type": "code",
   "execution_count": null,
   "metadata": {},
   "outputs": [],
   "source": []
  }
 ],
 "metadata": {
  "kernelspec": {
   "display_name": "Python 3",
   "language": "python",
   "name": "python3"
  },
  "language_info": {
   "codemirror_mode": {
    "name": "ipython",
    "version": 3
   },
   "file_extension": ".py",
   "mimetype": "text/x-python",
   "name": "python",
   "nbconvert_exporter": "python",
   "pygments_lexer": "ipython3",
   "version": "3.11.2"
  },
  "orig_nbformat": 4,
  "vscode": {
   "interpreter": {
    "hash": "e5a1283ab043defb7d08c3c76c2f5532c99341d33788e690b36667793f1ac6af"
   }
  }
 },
 "nbformat": 4,
 "nbformat_minor": 2
}
